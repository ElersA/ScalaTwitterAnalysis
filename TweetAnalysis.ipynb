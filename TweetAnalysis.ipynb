{
 "cells": [
  {
   "cell_type": "code",
   "execution_count": 1,
   "metadata": {},
   "outputs": [
    {
     "name": "stdout",
     "output_type": "stream",
     "text": [
      "Marking org.apache.spark:spark-streaming-twitter_2.11:1.6.3 for download\n",
      "Preparing to fetch from:\n",
      "-> file:/tmp/toree-tmp-dir8833507674206323449/toree_add_deps/\n",
      "-> https://repo1.maven.org/maven2\n",
      "-> New file at /tmp/toree-tmp-dir8833507674206323449/toree_add_deps/https/repo1.maven.org/maven2/org/apache/spark/spark-streaming-twitter_2.11/1.6.3/spark-streaming-twitter_2.11-1.6.3.jar\n",
      "-> New file at /tmp/toree-tmp-dir8833507674206323449/toree_add_deps/https/repo1.maven.org/maven2/org/apache/spark/spark-streaming-twitter_2.11/1.6.3/spark-streaming-twitter_2.11-1.6.3.pom\n"
     ]
    }
   ],
   "source": [
    "%AddDeps org.apache.spark spark-streaming-twitter_2.11 1.6.3"
   ]
  },
  {
   "cell_type": "markdown",
   "metadata": {},
   "source": [
    "### Read text files containing positive and negative words\n",
    "Remove lines starting with \";\" and remove initial empty line by taking the tail"
   ]
  },
  {
   "cell_type": "code",
   "execution_count": 8,
   "metadata": {},
   "outputs": [],
   "source": [
    "\n",
    "// Needed for all Spark jobs.\n",
    "import org.apache.spark.SparkConf\n",
    "import org.apache.spark.SparkContext._\n",
    "\n",
    "// Only needed for Spark Streaming.\n",
    "import org.apache.spark.streaming.Seconds\n",
    "import org.apache.spark.streaming.StreamingContext\n",
    "import org.apache.spark.streaming.StreamingContext._\n",
    "\n",
    "// Only needed for utilities for streaming from Twitter.\n",
    "import org.apache.spark.streaming.twitter._\n",
    "//file read\n",
    "import scala.io.Source\n",
    "\n",
    "//val posWords = Source.fromFile(\"./positive-words.txt\").getLines.toList.filterNot(_.contains(\";\")).tail.toSet\n",
    "//val negWords = Source.fromFile(\"./negative-words.txt\").getLines.toList.filterNot(_.contains(\";\")).tail.toSet\n",
    "//println(\"Number of positive words: \" + posWords.size)\n",
    "//println(\"Number of negative words: \" + negWords.size)\n",
    "\n",
    "//posWords take(5) foreach print\n",
    "//negWords take(5) foreach print"
   ]
  },
  {
   "cell_type": "markdown",
   "metadata": {},
   "source": [
    "### Create Spark connection"
   ]
  },
  {
   "cell_type": "code",
   "execution_count": 9,
   "metadata": {},
   "outputs": [
    {
     "data": {
      "text/plain": [
       "Name: org.apache.spark.SparkException\n",
       "Message: Only one SparkContext may be running in this JVM (see SPARK-2243). To ignore this error, set spark.driver.allowMultipleContexts = true. The currently running SparkContext was created at:\n",
       "org.apache.spark.sql.SparkSession$Builder.getOrCreate(SparkSession.scala:924)\n",
       "org.apache.toree.kernel.api.Kernel.sparkSession(Kernel.scala:444)\n",
       "org.apache.toree.kernel.api.Kernel.sparkContext(Kernel.scala:449)\n",
       "org.apache.toree.kernel.api.Kernel$$anonfun$addJars$3.apply(Kernel.scala:80)\n",
       "org.apache.toree.kernel.api.Kernel$$anonfun$addJars$3.apply(Kernel.scala:80)\n",
       "scala.collection.immutable.List.foreach(List.scala:381)\n",
       "org.apache.toree.kernel.api.Kernel.addJars(Kernel.scala:80)\n",
       "org.apache.toree.magic.builtin.AddDeps.execute(AddDeps.scala:115)\n",
       "sun.reflect.NativeMethodAccessorImpl.invoke0(Native Method)\n",
       "sun.reflect.NativeMethodAccessorImpl.invoke(NativeMethodAccessorImpl.java:62)\n",
       "sun.reflect.DelegatingMethodAccessorImpl.invoke(DelegatingMethodAccessorImpl.java:43)\n",
       "java.lang.reflect.Method.invoke(Method.java:498)\n",
       "org.apache.toree.plugins.PluginMethod$$anonfun$invoke$2.apply(PluginMethod.scala:116)\n",
       "scala.util.Try$.apply(Try.scala:192)\n",
       "org.apache.toree.plugins.PluginMethod.invoke(PluginMethod.scala:84)\n",
       "org.apache.toree.plugins.PluginManager$$anonfun$8.apply(PluginManager.scala:334)\n",
       "org.apache.toree.plugins.PluginManager$$anonfun$8.apply(PluginManager.scala:333)\n",
       "scala.collection.TraversableLike$$anonfun$map$1.apply(TraversableLike.scala:234)\n",
       "scala.collection.TraversableLike$$anonfun$map$1.apply(TraversableLike.scala:234)\n",
       "scala.collection.immutable.List.foreach(List.scala:381)\n",
       "StackTrace: org.apache.spark.sql.SparkSession$Builder.getOrCreate(SparkSession.scala:924)\n",
       "org.apache.toree.kernel.api.Kernel.sparkSession(Kernel.scala:444)\n",
       "org.apache.toree.kernel.api.Kernel.sparkContext(Kernel.scala:449)\n",
       "org.apache.toree.kernel.api.Kernel$$anonfun$addJars$3.apply(Kernel.scala:80)\n",
       "org.apache.toree.kernel.api.Kernel$$anonfun$addJars$3.apply(Kernel.scala:80)\n",
       "scala.collection.immutable.List.foreach(List.scala:381)\n",
       "org.apache.toree.kernel.api.Kernel.addJars(Kernel.scala:80)\n",
       "org.apache.toree.magic.builtin.AddDeps.execute(AddDeps.scala:115)\n",
       "sun.reflect.NativeMethodAccessorImpl.invoke0(Native Method)\n",
       "sun.reflect.NativeMethodAccessorImpl.invoke(NativeMethodAccessorImpl.java:62)\n",
       "sun.reflect.DelegatingMethodAccessorImpl.invoke(DelegatingMethodAccessorImpl.java:43)\n",
       "java.lang.reflect.Method.invoke(Method.java:498)\n",
       "org.apache.toree.plugins.PluginMethod$$anonfun$invoke$2.apply(PluginMethod.scala:116)\n",
       "scala.util.Try$.apply(Try.scala:192)\n",
       "org.apache.toree.plugins.PluginMethod.invoke(PluginMethod.scala:84)\n",
       "org.apache.toree.plugins.PluginManager$$anonfun$8.apply(PluginManager.scala:334)\n",
       "org.apache.toree.plugins.PluginManager$$anonfun$8.apply(PluginManager.scala:333)\n",
       "scala.collection.TraversableLike$$anonfun$map$1.apply(TraversableLike.scala:234)\n",
       "scala.collection.TraversableLike$$anonfun$map$1.apply(TraversableLike.scala:234)\n",
       "scala.collection.immutable.List.foreach(List.scala:381)\n",
       "  at org.apache.spark.SparkContext$$anonfun$assertNoOtherContextIsRunning$2.apply(SparkContext.scala:2456)\n",
       "  at org.apache.spark.SparkContext$$anonfun$assertNoOtherContextIsRunning$2.apply(SparkContext.scala:2452)\n",
       "  at scala.Option.foreach(Option.scala:257)\n",
       "  at org.apache.spark.SparkContext$.assertNoOtherContextIsRunning(SparkContext.scala:2452)\n",
       "  at org.apache.spark.SparkContext$.markPartiallyConstructed(SparkContext.scala:2541)\n",
       "  at org.apache.spark.SparkContext.<init>(SparkContext.scala:84)\n",
       "  at org.apache.spark.streaming.StreamingContext$.createNewSparkContext(StreamingContext.scala:838)\n",
       "  at org.apache.spark.streaming.StreamingContext.<init>(StreamingContext.scala:85)"
      ]
     },
     "execution_count": 9,
     "metadata": {},
     "output_type": "execute_result"
    }
   ],
   "source": [
    "// Set up the Spark configuration with our app name and any other config\n",
    "// parameters you want (e.g., Kryo serialization or executor memory).\n",
    "val sparkConf = new SparkConf().setAppName(\"id2221prog\").setMaster(\"local[2]\")\n",
    "\n",
    "// Use the config to create a streaming context that creates a new RDD\n",
    "// with a batch interval of every 5 seconds.\n",
    "val ssc = new StreamingContext(sparkConf, Seconds(5))\n",
    "// Use the streaming context and the TwitterUtils to create the\n",
    "// Twitter stream.\n",
    "//val stream = TwitterUtils.createStream(ssc, None)\n"
   ]
  },
  {
   "cell_type": "markdown",
   "metadata": {},
   "source": [
    "### Connect to Twitter's API"
   ]
  },
  {
   "cell_type": "code",
   "execution_count": null,
   "metadata": {},
   "outputs": [],
   "source": []
  },
  {
   "cell_type": "code",
   "execution_count": null,
   "metadata": {},
   "outputs": [],
   "source": []
  }
 ],
 "metadata": {
  "kernelspec": {
   "display_name": "Spark - Scala",
   "language": "scala",
   "name": "spark_scala"
  },
  "language_info": {
   "codemirror_mode": "text/x-scala",
   "file_extension": ".scala",
   "mimetype": "text/x-scala",
   "name": "scala",
   "pygments_lexer": "scala",
   "version": "2.11.8"
  }
 },
 "nbformat": 4,
 "nbformat_minor": 2
}
